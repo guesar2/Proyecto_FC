{
  "cells": [
    {
      "cell_type": "markdown",
      "metadata": {
        "id": "view-in-github",
        "colab_type": "text"
      },
      "source": [
        "<a href=\"https://colab.research.google.com/github/guesar2/Proyecto_FC/blob/main/proyecto_fc.ipynb\" target=\"_parent\"><img src=\"https://colab.research.google.com/assets/colab-badge.svg\" alt=\"Open In Colab\"/></a>"
      ]
    },
    {
      "cell_type": "markdown",
      "metadata": {
        "id": "tx5AVW73hL81"
      },
      "source": [
        "# Modelo de Ising Clásico Bidimensional en una grilla *N x N* Espines: Monte Carlo\n",
        "\n",
        " ### Fiorela Acuña, Diego Solano, Aaron Sanabria Martínez, Guillermo Escobar Arrieta"
      ]
    },
    {
      "cell_type": "markdown",
      "metadata": {
        "id": "4Y44G4mRhL84"
      },
      "source": [
        "## El modelo de Ising\n",
        "\n",
        "Este modelo es una herramienta práctica y sencilla para llegar a una relación de la mecánica estadística y la teoría cuántica de campos; principalmente se usa en mecánica estadística para simular sistemas magnéticos con el fin de analizar sus propiedades de ferromagnétismo, a partir del análisis de sistema de espines representados en una grilla y los intercambios de energía por interacciones entre espines (Molignini P.,2013).\n",
        "\n",
        "La grilla se ve representada por valores discretos de $\\sigma_{i}$ asignados en cada punto de esta y que identifican el espín en dicha posición. En este caso los valores posibles son de 1 y -1 (espín $\\uparrow$ y $\\downarrow$ respectivamente).\n",
        "\n",
        "El hamiltoniano asociado a estos sistemas es:\n",
        "\n",
        "$$\n",
        "\\hat{H} = - \\sum_{ \\left< i,j \\right>}^{N} J_{ij} \\hat{\\sigma}^{z}_{i} \\hat{\\sigma}^{z}_{j} - g \\sum_{i=1}^{N} \\hat{\\sigma}^{x}_{i},\n",
        "$$\n",
        "\n",
        "donde tenemos:\n",
        "- Las matrices de Pauli **$\\sigma_{i}^{z}$** y **$\\sigma_{i}^{x}$**.\n",
        "- La escala energética asociada a la interacción ferromagnética **$J_{ij}$**.\n",
        "- El parámetro energético del campo magnético transversal externo **g**.\n",
        "\n",
        "De este modo, el primer término define la interacción de pares de espines en la grilla y el segundo la interacción de todos los espines con el campo magnético externo.\n",
        "\n",
        "Por otra parte, el ferromagnetismo es la propiedad de los materiales a tener un ordenamiento magnético. Es decir, indica que los espines se matienen alineados en la misma dirección, ya sea todos los espines $\\uparrow$ o $\\downarrow$, posterior a la aplicación de un campo magnético externo. Existe una magnetización espontánea ante la ausencia de un campo magnético.\n",
        "\n",
        "Sin emabargo, según Bennett (2016) esto sucede solo en materiales que se encuentran por debajo de la temperratura de Curie ($T_{c}$), dado que por encima de ella los espines pueden desordenarse y el material sería paramagnético.\n",
        "\n",
        "El parámetro de $J_{ij}$ ayuda a identificar la propiedad magnética del material:\n",
        "- Si es positivo, los espines tienden a estar alineados y el material sería ferromagnético.\n",
        "- Si es negativo, los espines tienden a repeleerse entre sí y el material sería antiferromagnético.\n",
        "\n",
        "En caso de no tener un campo magnético externo (g = 0), el Hamiltoniano se reduce solo a las interaciones entre espines:\n",
        "\n",
        "$$\n",
        "\\hat{H} = - \\sum_{ \\left< i,j \\right>}^{N} J_{ij} \\hat{\\sigma}^{z}_{i} \\hat{\\sigma}^{z}_{j}\n",
        "$$\n"
      ]
    },
    {
      "cell_type": "markdown",
      "metadata": {
        "id": "_fArxaOmhL85"
      },
      "source": [
        "Para poder realizar una implementación númerica de este modelo, se toman las siguientes simplificaciones:\n",
        "- Se toma $J_{ij} \\Rightarrow J > 0$ para todas las interaciones de los espines\n",
        "- Se trabaja con una red cuadrada de NxN, la cual tiene una cantidad de configuraciones posibles son de *$2^{N^{2}}$*\n",
        "- Dominan las interacciones entre espines de los vecinos más cercanos\n",
        "\n",
        "Por tanto, el hamiltoniano toma la siguiente forma:\n",
        "\n",
        "$$\n",
        "\\hat{H} = -J \\sum_{ i=1}^{N} \\hat{\\sigma}^{z}_{i} \\hat{\\sigma}^{z}_{i +1} - g \\sum_{i=1}^{N} \\hat{\\sigma}^{x}_{i}\n",
        "$$"
      ]
    },
    {
      "cell_type": "markdown",
      "metadata": {
        "id": "xInq2TBIhL85"
      },
      "source": [
        "## Algoritmo de Metrópolis\n",
        "\n",
        "El algoritmo que se va a utilizar en este proyecto es conocido como Metropolis, y está basado en una simulación de Monte Carlo (como se verá más adelante). Otros procedimiento requerirían tomar números aleatorios, hacer las mediciones del método y luego calcular sus pesos respecto de factor de Boltzmann; lo cual implicaría un mayor costo computacional para obtener mediciones válidas. Por otro lado, Metropolis toma estados con base en los factores de Boltzmann, de modo que estos tienen el mismo peso.\n",
        "\n",
        "Primeramente, se genera una configuración aleatoria de _spin_ con energía ̣$E_0$. Luego, se escoge un _spin_ aleatorio para someterlo a un _flip_ (cambio de orientación en el _spin_), para lo cual se utiliza el algoritmo de Metropolis. Este requiere tomar en cuenta el cambio de energía en la configuración total $\\Delta E = E' - E_0$ si el _flip_ se diera ($E'$ es la hipotética nueva energía), la distribución de probabilidad de Boltzmann $e^{-\\Delta E / (k_b T)}$ y un número aleatorio $r$ tal que $0 \\leq r \\leq 1$ (Bennett, 2016).\n",
        "\n",
        "* Si $\\Delta E \\leq 0$, se acepta el cambio porque es más favorable que el estado inicial (estado menos energético).\n",
        "* Si $\\Delta E > 0$, se compara $p$ con $r$. Se acepta el _flip_ solo si $r \\leq p$.\n",
        "\n",
        "Tras aplicar el algoritmo, se actualizan la energía de la configuración $E_0$ y las demás magnitudes mencionadas anteriormente. Se repite para todos los puntos de la grilla hasta que se alcanza un estado de equilibrio térmico. La idea realizar evaluaciones para distintas temperaturas.\n",
        "\n",
        "En la figura 1 se muestra un diagrama de flujo para el método anteriormente descrito.\n",
        "\n",
        "![WhatsApp Image 2024-07-11 at 2.28.29 AM.jpeg](attachment:b7659fc3-8204-4742-b77d-fa4a31b78409.jpeg)\n",
        "\n",
        "Figura 1. Diagrama de flujo del método de Metropolis. Tomado de (Montes de Oca-Mora et al., 2023)."
      ]
    },
    {
      "cell_type": "markdown",
      "metadata": {
        "id": "nHljqyAFhL86"
      },
      "source": [
        "## Método de Montecarlo\n",
        "\n",
        "Como se vio anteriormente, se requieren número aleatorios para llevar a cabo el algoritmo de Metrópolis. En el código de este proyecto se emplearon el módulo `numpy` y su funcionalidad `random`.\n",
        "\n",
        "En Python, por lo general se crean números pseudo-aleatorios con base en un generador conocido como Mersenne-Twister, el cual ha sido ampliamente probado, pero hay situaciones en las que no es adecuado, como en la criptografía. Este produce floats con una precisión de 53 bits (de 15 a 17 posiciones decimales) y tiene un periodo de `2**19937-1`."
      ]
    },
    {
      "cell_type": "markdown",
      "metadata": {
        "id": "gbwuHvf-hL86"
      },
      "source": [
        "## Propiedades"
      ]
    },
    {
      "cell_type": "markdown",
      "metadata": {
        "id": "YBLDF-2rhL86"
      },
      "source": [
        "El estudio de cambios de fase es de suma importancia al analizar comportamientos y tendencias en los materiales; estos se identifican como rápido cambio de las propiedades macroscópicas a partir de cierto parámetro. Para el modelo de Ising, permite identificar una cambio de fase de los materiales, el cual se da al llegar a la temperatura de Curie (una temperatura crítica). Es importante recalcar que en este caso la temperatura se está tomando en unidades de energía (Molignini P., 2013).\n",
        "\n",
        "Esta transición de fase se puede analizar a partir del promedio de energía, la capacidad calorífica y la  magnetización cuando estas se toman en fución de la temperatura.\n"
      ]
    },
    {
      "cell_type": "markdown",
      "metadata": {
        "id": "De9CsyD3hL87"
      },
      "source": [
        "La energía promedio puede calcularse de la siguiente forma:\n",
        "\n",
        "$$\n",
        " \\left< E \\right> = \\frac{1}{2} \\left< \\sum_{i,j} H_{ij} \\right>\n",
        "$$\n",
        "\n",
        "El factor de $1/2$ toma en cuenta que en la suma se repiten cada par dos veces. Además para este caso se espera observar una continuidad (creciente) con un punto de inflexión en $T_{c}$, que luego decrezca a 0 de mode que se represente una desalineación de los spines (paramagnetividad del material).\n",
        "\n",
        "La magnetización bajo el modelo se calcula como\n",
        "\n",
        "$$\n",
        "\\left< M \\right> = \\frac{1}{N^{2}} \\sum_{i,j} \\sigma_{ij}\n",
        "$$\n",
        "\n",
        "Pero, teóricamente, la magnetización está dada por\n",
        "\n",
        "$$\n",
        "\\left< M \\right> = \\frac{\\eta g \\mu_{B}}{2} tanh(\\frac{g \\mu_{B} B}{2 k_{B}T}),\n",
        "$$\n",
        "\n",
        "con $\\eta$ el número de partículas, g la razón giromagnética, $\\mu_{B}$ el magnetón de Bohr, $k_{B}$ la cosntante de Boltzmann, B el campo magnético.\n",
        "\n",
        "Lo importante en este caso es que la relación de la magnetización con la temperatura debe seguir la forma de una tagente hiperbólica. Lo cual implica que en un inció debe tener un valor de 1 o -1 (estado de alineación ferromagnética), y posterior a $T_{c}$ debe ser 0 (dealineación paramagnética).\n",
        "\n",
        "Por último, la capacidad calorífica puede calcularse como\n",
        "\n",
        "$$\n",
        "C_{V} = \\frac{\\partial \\left< E \\right>}{\\partial T} = \\frac{1}{k_{B} T^{2}}(\\left< E^{2} \\right> - \\left< E \\right>^{2})\n",
        "$$\n",
        "\n",
        "En este caso, al ser una derivada de la energía se espera una discontinuidad cuando ocurre el cambio de fase en $T_{c}$."
      ]
    },
    {
      "cell_type": "markdown",
      "metadata": {
        "id": "RYHX90zVhL87"
      },
      "source": [
        "### Implementación del código\n",
        "\n",
        "Ahora, se implementa la función que cambia un spin aleatorio de la configuración, aplica el algoritmo de Metrópolis tantas veces como `steps` indique y retorna el rango de temperaturas especificado con `Ti`y `Tf` con el resto de propiedades.\n",
        "\n",
        "En cuanto a números pseudo-aleatorios, nótese que `np.random.choice([-1, 1], size=(size, size))` usa Mersenne-Twister por la forma en la que se llama a la funcionalidad. Por otro lado, `np.random.randint(N)` genera enteros aleatorios según Mersenne-Twister para ubicar un spin aleatorio de la configuración y someterlo al algoritmo de Metrópolis."
      ]
    },
    {
      "cell_type": "code",
      "execution_count": null,
      "metadata": {
        "id": "lLd9hbn4hL88"
      },
      "outputs": [],
      "source": [
        "import numpy as np\n",
        "\n",
        "def simulate_Ising(Ti, Tf, steps, size, mcsteps, init_state=1, J=1, kb=1):\n",
        "\n",
        "    def calculate_energy():\n",
        "        neighbors_sum = (\n",
        "            np.roll(spins, 1, axis=1)\n",
        "            + np.roll(spins, -1, axis=1)\n",
        "            + np.roll(spins, 1, axis=0)\n",
        "            + np.roll(spins, -1, axis=0)\n",
        "        )\n",
        "        return -J * neighbors_sum.sum()\n",
        "\n",
        "    def calculate_dE(i, j):\n",
        "        dE = (\n",
        "            2 * J\n",
        "            * spins[i, j]\n",
        "            * (\n",
        "                spins[(i + 1) % size, j]\n",
        "                + spins[(i - 1) % size, j]\n",
        "                + spins[i, (j + 1) % size]\n",
        "                + spins[i, (j - 1) % size]\n",
        "            )\n",
        "        )\n",
        "\n",
        "        return dE\n",
        "\n",
        "\n",
        "    if init_state == 0:\n",
        "        spins = np.random.choice([-1, 1], size=(size, size))\n",
        "    elif init_state == 1:\n",
        "        spins = np.ones((size, size))\n",
        "    elif init_state == -1:\n",
        "        spins = np.full((size, size), -1)\n",
        "    else:\n",
        "        raise ValueError(\"Invalid init_state value. Use 0 for random, 1 for all up, or -1 for all down.\")\n",
        "\n",
        "\n",
        "    E = calculate_energy()\n",
        "    M = np.sum(spins)\n",
        "    temperatures = np.linspace(Ti, Tf, steps)\n",
        "    energies = np.zeros((steps, mcsteps + 1))\n",
        "    magnetizations = np.zeros((steps, mcsteps + 1))\n",
        "\n",
        "    rand_pos = np.random.randint(size, size=((steps, mcsteps, 2)))\n",
        "    rands = np.log(np.random.uniform(size=(steps, mcsteps)))\n",
        "\n",
        "    for k in range(steps):\n",
        "        energies[k, 0] = E\n",
        "        magnetizations[k, 0] = M\n",
        "\n",
        "        for l in range(mcsteps):\n",
        "            i, j = rand_pos[k, l]\n",
        "            dE = calculate_dE(i, j)\n",
        "\n",
        "            if rands[k, l] < - dE / (kb * temperatures[k]):\n",
        "                spins[i, j] *= -1\n",
        "                M += 2 * spins[i, j]\n",
        "                E += dE\n",
        "\n",
        "            energies[k, l + 1] = E\n",
        "            magnetizations[k, l + 1] = M\n",
        "\n",
        "\n",
        "    return energies, magnetizations, temperatures"
      ]
    },
    {
      "cell_type": "markdown",
      "metadata": {
        "id": "ArY8uv-DhL89"
      },
      "source": [
        "Ahora, se llama a la función con el rango de temperaturas y los steps siguientes:"
      ]
    },
    {
      "cell_type": "code",
      "execution_count": null,
      "metadata": {
        "id": "mOnw0Z3IhL89"
      },
      "outputs": [],
      "source": [
        "Ti, Tf, steps, size = 0.5, 5, 40, 20\n",
        "thermsteps = 500000\n",
        "mcsteps = 300000\n",
        "energies, magnetizations, temperatures = simulate_Ising(Ti, Tf, steps, size, thermsteps + mcsteps, init_state=-1)\n",
        "Es = energies[:, thermsteps:]"
      ]
    },
    {
      "cell_type": "markdown",
      "metadata": {
        "id": "C2FhqyEQhL89"
      },
      "source": [
        "Como se vio anteriormente, la capacidad calorífica puede calcularse a partir de $<E>$ y $<E^2>$:"
      ]
    },
    {
      "cell_type": "code",
      "execution_count": null,
      "metadata": {
        "id": "XhYMQyHThL89"
      },
      "outputs": [],
      "source": [
        "C = ((Es ** 2).mean(axis=1) - (Es.mean(axis=1)) ** 2) / (temperatures * size * size)"
      ]
    },
    {
      "cell_type": "markdown",
      "metadata": {
        "id": "OS9Kh7zDhL89"
      },
      "source": [
        "Con la información anterior, se realizan gráficas de la energía, la magnetización y la capacidad calorífica en función de la temperatura:"
      ]
    },
    {
      "cell_type": "code",
      "execution_count": null,
      "metadata": {
        "id": "dqrEek3phL89",
        "outputId": "a909020e-9647-47f3-a499-78c4f870c701"
      },
      "outputs": [
        {
          "data": {
            "text/plain": [
              "Text(0.5, 0, 'Temperatura')"
            ]
          },
          "execution_count": 8,
          "metadata": {},
          "output_type": "execute_result"
        },
        {
          "data": {
            "image/png": "[encoded data removed]",
            "text/plain": [
              "<Figure size 640x480 with 1 Axes>"
            ]
          },
          "metadata": {},
          "output_type": "display_data"
        }
      ],
      "source": [
        "import matplotlib.pyplot as plt\n",
        "plt.plot(temperatures, Es.mean(axis=1) / (size * size), linestyle='None', marker='o')\n",
        "plt.ylabel(\"Energía\")\n",
        "plt.xlabel(\"Temperatura\")"
      ]
    },
    {
      "cell_type": "code",
      "execution_count": null,
      "metadata": {
        "id": "_WURnCibhL8-",
        "outputId": "b1f530d0-dda0-47f3-c50d-8925d9616e06"
      },
      "outputs": [
        {
          "data": {
            "text/plain": [
              "Text(0.5, 0, 'Temperatura')"
            ]
          },
          "execution_count": 9,
          "metadata": {},
          "output_type": "execute_result"
        },
        {
          "data": {
            "image/png": "[encoded data removed]",
            "text/plain": [
              "<Figure size 640x480 with 1 Axes>"
            ]
          },
          "metadata": {},
          "output_type": "display_data"
        }
      ],
      "source": [
        "plt.plot(temperatures, magnetizations[:, thermsteps:].mean(axis=1), linestyle='None', marker='o')\n",
        "plt.ylabel(\"Magnetización\")\n",
        "plt.xlabel(\"Temperatura\")"
      ]
    },
    {
      "cell_type": "code",
      "execution_count": null,
      "metadata": {
        "id": "XGmqnZ1mhL8-",
        "outputId": "b8e587d1-1f5c-438c-ee3b-8cab53d6a385"
      },
      "outputs": [
        {
          "data": {
            "text/plain": [
              "Text(0.5, 0, 'Temperatura')"
            ]
          },
          "execution_count": 10,
          "metadata": {},
          "output_type": "execute_result"
        },
        {
          "data": {
            "image/png": "[encoded data removed]",
            "text/plain": [
              "<Figure size 640x480 with 1 Axes>"
            ]
          },
          "metadata": {},
          "output_type": "display_data"
        }
      ],
      "source": [
        "plt.plot(temperatures, C, linestyle='None', marker='o')\n",
        "plt.ylabel(\"Capacidad calorífica\")\n",
        "plt.xlabel(\"Temperatura\")"
      ]
    },
    {
      "cell_type": "markdown",
      "metadata": {
        "id": "o3KrV4GEhL8-"
      },
      "source": [
        "## Bibliografía\n",
        "\n",
        "Bennett, D. (2016). _Numerical Solutions to the Ising Model using the Metropolis Algorithm_. https://www.maths.tcd.ie/~dbennett/js/ising.pdf\n",
        "\n",
        "Molignini P. (2013). _Analyzing the two dimensional Ising model with conformal field theory_. https://edu.itp.phys.ethz.ch/fs13/cft/SM2_Molignini.pdf\n",
        "\n",
        "Montes de Oca‑Mora, N.J. et al. (2023). J. Phys.: Conf. Ser. 2459 012028. https://iopscience.iop.org/article/10.1088/1742-6596/2459/1/012028"
      ]
    }
  ],
  "metadata": {
    "kernelspec": {
      "display_name": "Python 3 (ipykernel)",
      "language": "python",
      "name": "python3"
    },
    "language_info": {
      "codemirror_mode": {
        "name": "ipython",
        "version": 3
      },
      "file_extension": ".py",
      "mimetype": "text/x-python",
      "name": "python",
      "nbconvert_exporter": "python",
      "pygments_lexer": "ipython3",
      "version": "3.11.7"
    },
    "colab": {
      "provenance": [],
      "toc_visible": true,
      "include_colab_link": true
    }
  },
  "nbformat": 4,
  "nbformat_minor": 0
}